{
 "cells": [
  {
   "cell_type": "markdown",
   "metadata": {},
   "source": [
    "## Introduction\n",
    "For this project, you will work with the Reacher environment.\n",
    "\n",
    "In this environment, a double-jointed arm can move to target locations. A reward of +0.1 is provided for each step that the agent's hand is in the goal location. Thus, the goal of your agent is to maintain its position at the target location for as many time steps as possible.\n",
    "\n",
    "The observation space consists of 33 variables corresponding to position, rotation, velocity, and angular velocities of the arm. Each action is a vector with four numbers, corresponding to torque applicable to two joints. Every entry in the action vector should be a number between -1 and 1.\n",
    "\n",
    "## Learning Algorithm\n",
    "\n",
    "For this project the selected algorithm was a DDPG Deep Deterministic Policy Gradient. This in order to overcome the high complexity of the task, where a DQN algorithm wouldn't be enough to solve the task.\n",
    "The DDPG algorithm uses an stochastic aproach to provide the model with a factor of exploration, this to find better ways to achive the goal.\n",
    "\n",
    "### Models architecture\n",
    "#### Actor\n",
    "3 fully connected layers with ReLu activation functions and batch normalization\n",
    "#### Critic\n",
    "3 fully connected layers with ReLu activation functions and batch normalization\n",
    "\n",
    "The chosen hper parameters were:"
   ]
  },
  {
   "cell_type": "code",
   "execution_count": 1,
   "metadata": {},
   "outputs": [],
   "source": [
    "BUFFER_SIZE = int(1e5)\n",
    "BATCH_SIZE = 128\n",
    "GAMMA = 0.99\n",
    "TAU = 1e-3\n",
    "LR_ACTOR = 2e-4\n",
    "LR_CRITIC = 2e-4\n",
    "WEIGHT_DECAY = 0"
   ]
  },
  {
   "cell_type": "markdown",
   "metadata": {},
   "source": [
    "## Summary\n",
    "The goal was reached at the episode 240 with an avg score of 30.0931\n",
    "\n",
    "<img src=\"./dlphoto.png\">"
   ]
  },
  {
   "cell_type": "markdown",
   "metadata": {},
   "source": [
    "## Ideas for Future Work\n",
    "\n",
    "I'd like to try the 20 arms challenge, this to test if this architecture can get better results in the same amount of time"
   ]
  }
 ],
 "metadata": {
  "kernelspec": {
   "display_name": "Python 3",
   "language": "python",
   "name": "python3"
  },
  "language_info": {
   "codemirror_mode": {
    "name": "ipython",
    "version": 3
   },
   "file_extension": ".py",
   "mimetype": "text/x-python",
   "name": "python",
   "nbconvert_exporter": "python",
   "pygments_lexer": "ipython3",
   "version": "3.6.3"
  }
 },
 "nbformat": 4,
 "nbformat_minor": 2
}
